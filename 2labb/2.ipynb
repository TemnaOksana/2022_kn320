{
 "cells": [
  {
   "cell_type": "code",
   "execution_count": 11,
   "metadata": {},
   "outputs": [],
   "source": [
    "import numpy as np\n",
    "\n",
    "def homework(message):\n",
    "    print(\"\\n>>>>>\", message)\n",
    "\n",
    "def answer(message):\n",
    "    print(\"<<<<<\", message, \"\\n\")"
   ]
  },
  {
   "attachments": {},
   "cell_type": "markdown",
   "metadata": {},
   "source": [
    "# Визначення однорідного масиву"
   ]
  },
  {
   "cell_type": "code",
   "execution_count": 12,
   "metadata": {},
   "outputs": [
    {
     "name": "stdout",
     "output_type": "stream",
     "text": [
      "Отриманий масив має вигляд:\n",
      "array([[ 3,  8,  9],\n",
      "       [ 1, -7,  0],\n",
      "       [ 4, 12,  4]], dtype=int8)\n",
      "Отриманий масив має вигляд:\n",
      "array([[ 3.4,  8.7,  9.9],\n",
      "       [ 1.1, -7.8, -0.7],\n",
      "       [ 4.1, 12.3,  4.8]], dtype=float16)\n",
      "\n",
      ">>>>> Згадуючи ООП, що робить функція repr?\n",
      "<<<<< Функція repr робить: Return the canonical string representation of the object. \n",
      "\n",
      "\n",
      ">>>>> У чому різниця між масивами A i B?\n",
      "<<<<< Різнаця в типах даних. у масива А елементи не заокруглені, тип інтеджер \n",
      "\n"
     ]
    }
   ],
   "source": [
    "lst = [ [3.4, 8.7, 9.9], \n",
    "        [1.1, -7.8, -0.7],\n",
    "        [4.1, 12.3, 4.8] ]\n",
    "\n",
    "A = np.array(lst, dtype=np.int8)\n",
    "print(f\"Отриманий масив має вигляд:\\n{repr(A)}\")\n",
    "\n",
    "B = np.array(lst, dtype=np.float16)\n",
    "print(f\"Отриманий масив має вигляд:\\n{repr(B)}\")\n",
    "\n",
    "homework(\"Згадуючи ООП, що робить функція repr?\")\n",
    "answer('Функція repr робить: Return the canonical string representation of the object.')\n",
    "\n",
    "homework(\"У чому різниця між масивами A i B?\")\n",
    "answer('Різнаця в типах даних. у масива А елементи не заокруглені, тип інтеджер')"
   ]
  },
  {
   "attachments": {},
   "cell_type": "markdown",
   "metadata": {},
   "source": [
    "# Задаємо свій тип даних"
   ]
  },
  {
   "cell_type": "code",
   "execution_count": 13,
   "metadata": {},
   "outputs": [
    {
     "name": "stdout",
     "output_type": "stream",
     "text": [
      "Отриманий масив має вигляд:\n",
      "[('Bohdan', 4) ('Marta', 5) ('Noname', 0)]\n",
      "Доступитись до певної колонки тепер можна за її іменем: [4 5 0]\n",
      "['Bohdan' 'Marta' 'Noname']\n",
      "\n",
      ">>>>> Як вивести всі імена присутні в даному масиві?\n",
      "<<<<< Через нейм \n",
      " C[\"name\"] = array(['Bohdan', 'Marta', 'Noname'], dtype='<U20') \n",
      "\n"
     ]
    }
   ],
   "source": [
    "dt = np.dtype([('name', np.compat.unicode, 20), ('mark', np.int8)])\n",
    "\n",
    "arr = [\n",
    "    (\"Bohdan\", 4), \n",
    "    (\"Marta\", 5),\n",
    "    (\"Noname\", 0)\n",
    "    ]\n",
    "\n",
    "C = np.array(arr, dtype=dt)\n",
    "\n",
    "print(f\"Отриманий масив має вигляд:\\n{C}\")\n",
    "print(f\"Доступитись до певної колонки тепер можна за її іменем: {C['mark']}\")\n",
    "print(f\"{C['name']}\")\n",
    "\n",
    "homework(\"Як вивести всі імена присутні в даному масиві?\")\n",
    "answer(f'Через нейм \\n {C[\"name\"] = }')"
   ]
  },
  {
   "attachments": {},
   "cell_type": "markdown",
   "metadata": {},
   "source": [
    "# Запис та зчитування з файлу, формат CSV"
   ]
  },
  {
   "cell_type": "code",
   "execution_count": 14,
   "metadata": {},
   "outputs": [
    {
     "name": "stdout",
     "output_type": "stream",
     "text": [
      "Вихідний масив:  [('Bohdan', 4) ('Marta', 5) ('Noname', 0)]\n",
      "Прочитаний з файлу:  [('Bohdan', 4) ('Marta', 5) ('Noname', 0)]\n",
      "Записуємо у CSV файл temp.csv значення: [('Bohdan', 4) ('Marta', 5) ('Noname', 0)]\n",
      "Перевіряємо чи файл temp.csv створився: ['2.ipynb', 'Array.csv', 'my_mass.npz', 'README.md', 'temp.csv']\n",
      "Читаємо файл за допомогою оператора with та методу readlines\n",
      "Прочитаний файл:\n",
      " ['# name,mark\\n', 'Bohdan,4\\n', 'Marta,5\\n', 'Noname,0\\n'] \n",
      "- як бачимо - 4 елементи є стрічками <class 'str'>.\n",
      "Зчитане значення з файла:\n",
      " [('Bohdan', 4) ('Marta', 5) ('Noname', 0)], як бачимо - 3 елементи це <class 'numpy.void'> \n",
      "- вбудований клас бібліотеки numpy.\n",
      "Доступитись до певного елемента можна наступним чином, наприклад імя першого елементу: Bohdan\n",
      "\n",
      ">>>>> Створіть додаткове поле group - яке буде вказувавти групу. \n",
      "Допишіть Ваше імя, оцінку та групу до масиву. \n",
      "Збережіть та вичитайте дані у файл.\n",
      "Прочитайте саме Ваше імя з масиву.\n"
     ]
    }
   ],
   "source": [
    "print(\"Вихідний масив: \", C)\n",
    "np.savez(\"my_mass.npz\", my_mass=C)\n",
    "D = np.load(\"my_mass.npz\")\n",
    "print(\"Прочитаний з файлу: \", D[\"my_mass\"])\n",
    "\n",
    "filename = \"temp.csv\"\n",
    "print(f\"Записуємо у CSV файл {filename} значення: {C}\")\n",
    "np.savetxt(filename, C, fmt=\"%s,%d\", header=\"name,mark\", delimiter=\",\")\n",
    "\n",
    "import os\n",
    "print(f\"Перевіряємо чи файл {filename} створився: {os.listdir()}\")\n",
    "\n",
    "print(\"Читаємо файл за допомогою оператора with та методу readlines\")\n",
    "with open(filename) as f:\n",
    "    D = f.readlines()\n",
    "\n",
    "print(f\"Прочитаний файл:\\n {D} \\n- як бачимо - {len(D)} елементи є стрічками {type(D[0])}.\")\n",
    "\n",
    "D = np.genfromtxt(filename, dtype=dt, delimiter=\",\")\n",
    "print(f\"Зчитане значення з файла:\\n {D}, як бачимо - {D.size} елементи це {type(D[0])} \\n- вбудований клас бібліотеки numpy.\")\n",
    "print(f\"Доступитись до певного елемента можна наступним чином, наприклад імя першого елементу: {D[0]['name']}\")\n",
    "\n",
    "homework(\"\"\"Створіть додаткове поле group - яке буде вказувавти групу. \n",
    "Допишіть Ваше імя, оцінку та групу до масиву. \n",
    "Збережіть та вичитайте дані у файл.\n",
    "Прочитайте саме Ваше імя з масиву.\"\"\")"
   ]
  },
  {
   "cell_type": "code",
   "execution_count": 15,
   "metadata": {},
   "outputs": [
    {
     "name": "stdout",
     "output_type": "stream",
     "text": [
      "Масив:\n",
      "[('KN-320', 'Bohdan', 4) ('KN-320', 'Marta', 5) ('???', 'Noname', 0)\n",
      " ('KN-320', 'Oksana', 5)]\n",
      "\n",
      "Масив [('KN-320', 'Bohdan', 4) ('KN-320', 'Marta', 5) ('???', 'Noname', 0)\n",
      " ('KN-320', 'Oksana', 5)] був записаний у файл Array.csv\n",
      "\n",
      "Прочитаний масив [('KN-320', 'Bohdan', 4) ('KN-320', 'Marta', 5) ('???', 'Noname', 0)\n",
      " ('KN-320', 'Oksana', 5)] з файлу Array.csv\n",
      "\n",
      "Студент Oksana\n",
      "Оцінка студента 5\n",
      "Група студента KN-320\n",
      "\n"
     ]
    }
   ],
   "source": [
    "dt = np.dtype([('group', np.compat.unicode, 20), ('name', np.compat.unicode, 20), ('mark', np.int8)])\n",
    "\n",
    "arr = [\n",
    "    (\"KN-320\", \"Bohdan\", 4), \n",
    "    (\"KN-320\", \"Marta\", 5),\n",
    "    (\"???\", \"Noname\", 0),\n",
    "    (\"KN-320\", \"Oksana\", 5)\n",
    "    ]\n",
    "\n",
    "array = np.array(arr, dtype=dt)\n",
    "\n",
    "print(f\"Масив:\\n{array}\")\n",
    "\n",
    "fn = 'Array.csv'\n",
    "np.savetxt(fn, array, fmt=\"%s,%s,%d\", header=\"group, name, mark\", delimiter=\",\")\n",
    "\n",
    "print(f'\\nМасив {array} був записаний у файл {fn}')\n",
    "\n",
    "with open(fn) as f:\n",
    "    mas = f.readlines()\n",
    "print(f'\\nПрочитаний масив {array} з файлу {fn}')\n",
    "mas = np.genfromtxt(fn, dtype=dt, delimiter=\",\")\n",
    "\n",
    "print(f\"\"\"\n",
    "Студент {mas[3]['name']}\n",
    "Оцінка студента {mas[3]['mark']}\n",
    "Група студента {mas[3]['group']}\n",
    "\"\"\")\n",
    "\n"
   ]
  }
 ],
 "metadata": {
  "kernelspec": {
   "display_name": "Python 3",
   "language": "python",
   "name": "python3"
  },
  "language_info": {
   "codemirror_mode": {
    "name": "ipython",
    "version": 3
   },
   "file_extension": ".py",
   "mimetype": "text/x-python",
   "name": "python",
   "nbconvert_exporter": "python",
   "pygments_lexer": "ipython3",
   "version": "3.10.9"
  },
  "orig_nbformat": 4,
  "vscode": {
   "interpreter": {
    "hash": "afb734500600fd355917ca529030176ea0ca205570884b88f2f6f7d791fd3fbe"
   }
  }
 },
 "nbformat": 4,
 "nbformat_minor": 2
}
